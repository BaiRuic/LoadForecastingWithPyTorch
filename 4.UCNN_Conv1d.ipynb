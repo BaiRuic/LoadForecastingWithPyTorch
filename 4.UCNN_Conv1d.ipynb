{
 "cells": [
  {
   "cell_type": "markdown",
   "metadata": {},
   "source": [
    "Library"
   ]
  },
  {
   "cell_type": "code",
   "execution_count": 3,
   "metadata": {},
   "outputs": [],
   "source": [
    "import pandas as pd\n",
    "import numpy as np\n",
    "import torch\n",
    "import torch.nn as nn\n",
    "import math\n",
    "import matplotlib.pyplot as plt\n",
    "import os\n",
    "import random\n",
    "from sklearn import preprocessing\n",
    "import convlocal \n",
    "path = os.getcwd()\n",
    "DEVICE = torch.device(\"cuda\" if torch.cuda.is_available() else \"cpu\")\n",
    "torch.set_default_tensor_type('torch.DoubleTensor')"
   ]
  },
  {
   "cell_type": "markdown",
   "metadata": {},
   "source": [
    "DataLoad "
   ]
  },
  {
   "cell_type": "code",
   "execution_count": 5,
   "metadata": {},
   "outputs": [
    {
     "data": {
      "text/html": [
       "<div>\n",
       "<style scoped>\n",
       "    .dataframe tbody tr th:only-of-type {\n",
       "        vertical-align: middle;\n",
       "    }\n",
       "\n",
       "    .dataframe tbody tr th {\n",
       "        vertical-align: top;\n",
       "    }\n",
       "\n",
       "    .dataframe thead th {\n",
       "        text-align: right;\n",
       "    }\n",
       "</style>\n",
       "<table border=\"1\" class=\"dataframe\">\n",
       "  <thead>\n",
       "    <tr style=\"text-align: right;\">\n",
       "      <th></th>\n",
       "      <th>load</th>\n",
       "      <th>temp</th>\n",
       "    </tr>\n",
       "    <tr>\n",
       "      <th>date</th>\n",
       "      <th></th>\n",
       "      <th></th>\n",
       "    </tr>\n",
       "  </thead>\n",
       "  <tbody>\n",
       "    <tr>\n",
       "      <th>2012-01-01 00:00:00</th>\n",
       "      <td>2698.0</td>\n",
       "      <td>32.000000</td>\n",
       "    </tr>\n",
       "    <tr>\n",
       "      <th>2012-01-01 01:00:00</th>\n",
       "      <td>2558.0</td>\n",
       "      <td>32.666667</td>\n",
       "    </tr>\n",
       "    <tr>\n",
       "      <th>2012-01-01 02:00:00</th>\n",
       "      <td>2444.0</td>\n",
       "      <td>30.000000</td>\n",
       "    </tr>\n",
       "    <tr>\n",
       "      <th>2012-01-01 03:00:00</th>\n",
       "      <td>2402.0</td>\n",
       "      <td>31.000000</td>\n",
       "    </tr>\n",
       "    <tr>\n",
       "      <th>2012-01-01 04:00:00</th>\n",
       "      <td>2403.0</td>\n",
       "      <td>32.000000</td>\n",
       "    </tr>\n",
       "    <tr>\n",
       "      <th>2012-01-01 05:00:00</th>\n",
       "      <td>2453.0</td>\n",
       "      <td>31.333333</td>\n",
       "    </tr>\n",
       "    <tr>\n",
       "      <th>2012-01-01 06:00:00</th>\n",
       "      <td>2560.0</td>\n",
       "      <td>30.000000</td>\n",
       "    </tr>\n",
       "    <tr>\n",
       "      <th>2012-01-01 07:00:00</th>\n",
       "      <td>2719.0</td>\n",
       "      <td>29.000000</td>\n",
       "    </tr>\n",
       "    <tr>\n",
       "      <th>2012-01-01 08:00:00</th>\n",
       "      <td>2916.0</td>\n",
       "      <td>29.000000</td>\n",
       "    </tr>\n",
       "    <tr>\n",
       "      <th>2012-01-01 09:00:00</th>\n",
       "      <td>3105.0</td>\n",
       "      <td>33.333333</td>\n",
       "    </tr>\n",
       "  </tbody>\n",
       "</table>\n",
       "</div>"
      ],
      "text/plain": [
       "                       load       temp\n",
       "date                                  \n",
       "2012-01-01 00:00:00  2698.0  32.000000\n",
       "2012-01-01 01:00:00  2558.0  32.666667\n",
       "2012-01-01 02:00:00  2444.0  30.000000\n",
       "2012-01-01 03:00:00  2402.0  31.000000\n",
       "2012-01-01 04:00:00  2403.0  32.000000\n",
       "2012-01-01 05:00:00  2453.0  31.333333\n",
       "2012-01-01 06:00:00  2560.0  30.000000\n",
       "2012-01-01 07:00:00  2719.0  29.000000\n",
       "2012-01-01 08:00:00  2916.0  29.000000\n",
       "2012-01-01 09:00:00  3105.0  33.333333"
      ]
     },
     "execution_count": 5,
     "metadata": {},
     "output_type": "execute_result"
    }
   ],
   "source": [
    "data = pd.read_csv(path + '\\\\data\\\\energy.csv',header=0,index_col=0)\n",
    "data.head(10)"
   ]
  },
  {
   "cell_type": "markdown",
   "metadata": {},
   "source": [
    "DataPrepare"
   ]
  },
  {
   "cell_type": "code",
   "execution_count": 6,
   "metadata": {},
   "outputs": [],
   "source": [
    "# 将序列数据转化为监督模型可训练的数据\n",
    "def data_to_supervised(data, time_steps, horizion, features = 2):\n",
    "    column_data = [] # 存放数据\n",
    "    column_name = [] # 存放column名字\n",
    "    features = data.shape[1] # 特征个数\n",
    "    for i in range(time_steps, 0, -1):\n",
    "        column_data.append(data.shift(periods=i, axis=0))\n",
    "        if i !=1:\n",
    "            column_name += ['load(t-'+str(i-1) +')', 'temp(t-' + str(i-1) + ')']\n",
    "        else:\n",
    "            column_name += ['load(t)', 'temp(t)']\n",
    "    for i in range(0,horizion):\n",
    "        column_data.append(data['load'].shift(periods=-i, axis=0))\n",
    "        column_name += ['load(t+' + str(i+1) + ')']\n",
    "    reframed_data = pd.concat(column_data, axis=1)\n",
    "    reframed_data.columns = column_name\n",
    "    reframed_data.dropna(how='any', axis=0,inplace=True)\n",
    "    return reframed_data"
   ]
  },
  {
   "cell_type": "code",
   "execution_count": 7,
   "metadata": {},
   "outputs": [
    {
     "name": "stdout",
     "output_type": "stream",
     "text": [
      "name: reframed_data.  type:<class 'pandas.core.frame.DataFrame'>  shape:(26294, 21)\n"
     ]
    }
   ],
   "source": [
    "time_steps = 10\n",
    "features = 2\n",
    "horizion = 1\n",
    "\n",
    "reframed_data = data_to_supervised(data=data, time_steps=time_steps, horizion=horizion, features = 2)\n",
    "print(f'name: reframed_data.  type:{type(reframed_data)}  shape:{reframed_data.shape}')"
   ]
  },
  {
   "cell_type": "code",
   "execution_count": 8,
   "metadata": {},
   "outputs": [],
   "source": [
    "# 数据标准化\n",
    "def standardizeData(X, SS=None, train = False):\n",
    "    '''\n",
    "    Given a list of input features, standizes them to bring them onto a homsgenous scale\n",
    "    \n",
    "    Args:\n",
    "        X([Dataframe]): [A dataframe of all the input values]\n",
    "        SS([object],optional): [A standardScaler object that hold mean and std of a standardized dataset] Default is None\n",
    "        train([bool],optional):[if False, mean validation set to be loaded and SS need to be passed to scale it] Default is False\n",
    "    '''\n",
    "    if train:\n",
    "        SS = StandardScaler()\n",
    "        new_X = SS.fit_transform(X)\n",
    "        return (new_X, SS)\n",
    "    else:\n",
    "        new_X = SS.fit_transform(X)\n",
    "        return (new_X, None)"
   ]
  },
  {
   "cell_type": "code",
   "execution_count": 9,
   "metadata": {},
   "outputs": [
    {
     "name": "stdout",
     "output_type": "stream",
     "text": [
      "name:stdDate.  type: <class 'numpy.ndarray'>  shape:(26294, 21)\n"
     ]
    }
   ],
   "source": [
    "scaler = preprocessing.MinMaxScaler(feature_range=(0, 1))\n",
    "stdData, _ = standardizeData(X=reframed_data, SS=scaler, train = False)\n",
    "print(f'name:stdDate.  type: {type(stdData)}  shape:{stdData.shape}')"
   ]
  },
  {
   "cell_type": "code",
   "execution_count": 10,
   "metadata": {},
   "outputs": [
    {
     "name": "stdout",
     "output_type": "stream",
     "text": [
      "inputs.shape:(26294, 20)\n",
      "outputs.shape:(26294,)\n",
      "train:\n",
      "train_ip.shape:(21035, 20)\n",
      "train_op.shape:(21035,)\n",
      "valid:\n",
      "valid_ip.shape:(2629, 20)\n",
      "valid_op.shape:(2629,)\n",
      "test:\n",
      "test_ip.shape:(2630, 20)\n",
      "test_op.shape:(2630,)\n"
     ]
    }
   ],
   "source": [
    "# 将输入输出分开 \n",
    "inputs = stdData[:,:-1]\n",
    "outputs = stdData[:,-1]\n",
    "print(f'inputs.shape:{inputs.shape}')\n",
    "print(f'outputs.shape:{outputs.shape}')\n",
    "\n",
    "# 将训练集测试集验证集合分开\n",
    "num_examples = inputs.shape[0]\n",
    "train_size = int( num_examples * 0.8 )\n",
    "valid_size = int( num_examples * 0.1 )\n",
    "train_ip, train_op = inputs[:train_size, :],outputs[:train_size]\n",
    "valid_ip, valid_op = inputs[train_size:train_size+valid_size, :],outputs[train_size:train_size+valid_size]\n",
    "test_ip,test_op = inputs[train_size+valid_size:, :],outputs[train_size+valid_size:]\n",
    "\n",
    "print('train:')\n",
    "print(f'train_ip.shape:{train_ip.shape}')\n",
    "print(f'train_op.shape:{train_op.shape}')\n",
    "print('valid:')\n",
    "print(f'valid_ip.shape:{valid_ip.shape}')\n",
    "print(f'valid_op.shape:{valid_op.shape}')\n",
    "print('test:')\n",
    "print(f'test_ip.shape:{test_ip.shape}')\n",
    "print(f'test_op.shape:{test_op.shape}')"
   ]
  },
  {
   "cell_type": "code",
   "execution_count": 11,
   "metadata": {},
   "outputs": [],
   "source": [
    "# 构建自定义的数据集类\n",
    "class LoadDataset(torch.utils.data.Dataset):\n",
    "    '''\n",
    "    This class is the dataset class which is used to load data for training the LSTM \n",
    "    to forecast load data\n",
    "    '''\n",
    "    def __init__(self,inputs,outputs):\n",
    "        '''\n",
    "        Initialize the class with instance variables\n",
    "        \n",
    "        Args:\n",
    "            inputs([list])  :[A list of list representing input parameters, include load and temp]\n",
    "            outputs([list]) :[A list of floats for the load]\n",
    "        '''\n",
    "        super(LoadDataset,self).__init__()\n",
    "        self.inputs = inputs\n",
    "        self.outputs = outputs\n",
    "        \n",
    "    def __len__(self):\n",
    "        '''\n",
    "        Return the total number of samples in the datasets\n",
    "        '''\n",
    "        return len(self.outputs)\n",
    "    \n",
    "    def __getitem__(self, idx):\n",
    "        '''\n",
    "        Given an index, it retrieves the input and output corresponding to that index and return the same \n",
    "        \n",
    "        Args:\n",
    "        idx([int]) :[An integer representing a position in the samples]\n",
    "        '''\n",
    "        x = torch.tensor(self.inputs[idx]).requires_grad_(True)\n",
    "        y  =torch.tensor(self.outputs[idx]).requires_grad_(True)\n",
    "        \n",
    "        return(x, y)     "
   ]
  },
  {
   "cell_type": "code",
   "execution_count": 12,
   "metadata": {},
   "outputs": [],
   "source": [
    "batch_size = 128\n",
    "trainDataset = LoadDataset(train_ip,train_op)\n",
    "train_generator = torch.utils.data.DataLoader(dataset=trainDataset, batch_size=128,shuffle=False)"
   ]
  },
  {
   "cell_type": "code",
   "execution_count": 13,
   "metadata": {},
   "outputs": [],
   "source": [
    "# 将 numpy转为 tensor\n",
    "def numpy_to_tensor(x,y,device):\n",
    "    if type(x) is np.ndarray:\n",
    "        x = torch.tensor(x, dtype=torch.double, device=device)\n",
    "        y = torch.tensor(y, dtype=torch.double, device=device)\n",
    "    elif type(x) is torch.tensor:\n",
    "        pass\n",
    "    return x, y"
   ]
  },
  {
   "cell_type": "code",
   "execution_count": 14,
   "metadata": {},
   "outputs": [],
   "source": [
    "valid_x,valid_y = numpy_to_tensor(valid_ip, valid_op, DEVICE)\n",
    "test_x,test_y = numpy_to_tensor(test_ip,test_op, DEVICE)"
   ]
  },
  {
   "cell_type": "markdown",
   "metadata": {},
   "source": [
    "Model"
   ]
  },
  {
   "cell_type": "code",
   "execution_count": 21,
   "metadata": {},
   "outputs": [],
   "source": [
    "class My_CNN(nn.Module):\n",
    "    def __init__(self):\n",
    "        super(My_CNN, self).__init__()\n",
    "        self.con1 = nn.Sequential(\n",
    "            \n",
    "                        convlocal.Conv1dLocal(in_height=10, in_channels=2, out_channels=5, kernel_size=3),\n",
    "                        # nn.Conv1d(in_channels=2,out_channels=8,kernel_size=3),\n",
    "                        # nn.MaxPool1d(kernel_size=1),\n",
    "                        nn.ReLU(),)\n",
    "        \n",
    "        self.con2 = nn.Sequential(\n",
    "                        convlocal.Conv1dLocal(in_height=8, in_channels=5, out_channels=3, kernel_size=3),\n",
    "                        # nn.Conv1d(in_channels=8,out_channels=16,kernel_size=3),\n",
    "                        # nn.MaxPool1d(kernel_size=1),\n",
    "                        nn.ReLU(),)\n",
    "        self.fc = nn.Sequential(\n",
    "                        nn.Linear(in_features=3*(10-3-3+1+1),out_features=8),\n",
    "                        nn.ReLU(),\n",
    "                        nn.Linear(in_features=8,out_features=1 ),)\n",
    "        \n",
    "    \n",
    "    def forward(self,inputs):\n",
    "        # inputs = inputs.permute(0, 2, 1) # shape=[batch_size, num_feature, time_step]\n",
    "        inputs = inputs.unsqueeze(axis=2 ) # shape = [batch_size, time_step, 1, num_feature]\n",
    "        x = self.con1(inputs)\n",
    "        x = self.con2(x)\n",
    "        x = x.view(x.size(0),-1)\n",
    "        out = self.fc(x)\n",
    "        return out\n",
    "    \n",
    "    def predict(self,inputs):\n",
    "        with torch.no_grad():\n",
    "            predictions = self.forward(inputs)\n",
    "        return predictions"
   ]
  },
  {
   "cell_type": "code",
   "execution_count": 22,
   "metadata": {},
   "outputs": [
    {
     "name": "stdout",
     "output_type": "stream",
     "text": [
      "My_CNN(\n",
      "  (con1): Sequential(\n",
      "    (0): Conv1dLocal(2, 5, kernel_size=(3, 1), stride=(1, 1))\n",
      "    (1): ReLU()\n",
      "  )\n",
      "  (con2): Sequential(\n",
      "    (0): Conv1dLocal(5, 3, kernel_size=(3, 1), stride=(1, 1))\n",
      "    (1): ReLU()\n",
      "  )\n",
      "  (fc): Sequential(\n",
      "    (0): Linear(in_features=18, out_features=8, bias=True)\n",
      "    (1): ReLU()\n",
      "    (2): Linear(in_features=8, out_features=1, bias=True)\n",
      "  )\n",
      ")\n"
     ]
    }
   ],
   "source": [
    "# model = My_CNN().to(DEVICE)\n",
    "model = My_CNN().to(DEVICE)\n",
    "loss_func = nn.MSELoss(reduction='sum')\n",
    "optim = optimizer = torch.optim.Adam(model.parameters(), lr=0.01)\n",
    "print(model)"
   ]
  },
  {
   "cell_type": "code",
   "execution_count": 19,
   "metadata": {},
   "outputs": [
    {
     "name": "stdout",
     "output_type": "stream",
     "text": [
      "torch.Size([128, 10, 2])\n",
      "torch.Size([128, 10, 1, 2])\n"
     ]
    }
   ],
   "source": [
    "for X,Y in train_generator:  \n",
    "    X = X.view(X.shape[0],time_steps,features)\n",
    "    print(X.shape)\n",
    "    X = X.unsqueeze(axis=2)\n",
    "    print(X.shape)\n",
    "    break"
   ]
  },
  {
   "cell_type": "markdown",
   "metadata": {},
   "source": [
    "Training"
   ]
  },
  {
   "cell_type": "code",
   "execution_count": 23,
   "metadata": {},
   "outputs": [
    {
     "name": "stdout",
     "output_type": "stream",
     "text": [
      "epoch: 0, train_loss:0.05239316205005276 valid_loss:0.06391631676786175\n",
      "epoch: 10, train_loss:0.0008269094476286734 valid_loss:0.0013233022856802897\n",
      "epoch: 20, train_loss:0.0007189979665820358 valid_loss:0.0011196392692235512\n",
      "epoch: 30, train_loss:0.0006565209687675789 valid_loss:0.001202243122945723\n",
      "epoch: 40, train_loss:0.0006192568922384975 valid_loss:0.0009917227498372765\n",
      "epoch: 50, train_loss:0.0005672595392441446 valid_loss:0.0007691036054788328\n",
      "epoch: 60, train_loss:0.0005010872912391206 valid_loss:0.0006475930468296671\n",
      "epoch: 70, train_loss:0.00047940830993025785 valid_loss:0.0005587848336813347\n",
      "epoch: 80, train_loss:0.0004704469733605882 valid_loss:0.0005556454166211003\n",
      "epoch: 90, train_loss:0.0004501381768067837 valid_loss:0.000732139677267254\n"
     ]
    },
    {
     "data": {
      "text/plain": [
       "[<matplotlib.lines.Line2D at 0x2201a356088>]"
      ]
     },
     "execution_count": 23,
     "metadata": {},
     "output_type": "execute_result"
    },
    {
     "data": {
      "image/png": "[encoded data removed]",
      "text/plain": [
       "<Figure size 432x288 with 1 Axes>"
      ]
     },
     "metadata": {
      "needs_background": "light"
     },
     "output_type": "display_data"
    }
   ],
   "source": [
    "num_epochs = 100\n",
    "train_losses = []\n",
    "valid_losses = []\n",
    "for epoch in range(0,num_epochs):\n",
    "    \n",
    "    sample_num = 0 # the sum of the train_set\n",
    "    ls = 0        # loss of train_set\n",
    "    valid_ls = 0  # loss of valid_set\n",
    "    \n",
    "    for X,Y in train_generator:\n",
    "        # Perform the forward pass operation\n",
    "        X = X.view(X.shape[0],time_steps,features).to(DEVICE)\n",
    "        Y = Y.to(DEVICE)\n",
    "        Y_hat = model(X)\n",
    "        # Backpropagate the errors through the network\n",
    "        loss = loss_func(Y_hat.squeeze(),Y)\n",
    "        optim.zero_grad()\n",
    "        loss.backward()\n",
    "        optim.step()\n",
    "        \n",
    "    \n",
    "        sample_num += X.shape[0] # calculate the total train samplt\n",
    "        ls += loss.item()        # calculate the total train error\n",
    "    ls = ls / sample_num\n",
    "    \n",
    "    # check the performance on valiation data\n",
    "    valid_x = valid_x.view(valid_x.shape[0], time_steps, features).to(DEVICE)\n",
    "    valid_y.to(DEVICE)\n",
    "    \n",
    "    valid_y_hat = model.predict(valid_x)\n",
    "    vls = loss_func(valid_y_hat.squeeze(),valid_y)\n",
    "    valid_ls = vls.item() / valid_x.shape[0]\n",
    "    \n",
    "    if epoch % 10 == 0:\n",
    "        print(f'epoch: {epoch}, train_loss:{ls} valid_loss:{valid_ls}')\n",
    "    # rmse   \n",
    "    rmse = lambda x: round(np.sqrt(x * 1.000), 3)\n",
    "    train_losses.append(rmse(ls))\n",
    "    valid_losses.append(rmse(valid_ls))  \n",
    "# plot the loss\n",
    "plt.plot(train_losses)\n",
    "plt.plot(valid_losses)"
   ]
  },
  {
   "cell_type": "markdown",
   "metadata": {},
   "source": [
    "Predict"
   ]
  },
  {
   "cell_type": "code",
   "execution_count": 24,
   "metadata": {},
   "outputs": [
    {
     "name": "stdout",
     "output_type": "stream",
     "text": [
      "loss:0.00038066689840186\n"
     ]
    },
    {
     "data": {
      "text/plain": [
       "<matplotlib.legend.Legend at 0x2203132a208>"
      ]
     },
     "execution_count": 24,
     "metadata": {},
     "output_type": "execute_result"
    },
    {
     "data": {
      "image/png": "[encoded data removed]",
      "text/plain": [
       "<Figure size 720x360 with 1 Axes>"
      ]
     },
     "metadata": {
      "needs_background": "light"
     },
     "output_type": "display_data"
    }
   ],
   "source": [
    "# Prediction for test_set\n",
    "test_x = test_x.view(test_x.shape[0], time_steps, features).to(DEVICE)\n",
    "test_y.to(DEVICE)\n",
    "\n",
    "test_y_hat = model.predict(test_x)\n",
    "vls = loss_func(test_y_hat.squeeze(),test_y)\n",
    "test_ls = vls.item() / valid_x.shape[0]\n",
    "print(f'loss:{test_ls}')\n",
    "plt.figure(figsize=(10,5))\n",
    "plt.plot(test_y_hat.cpu().numpy()[:200],label='predict')\n",
    "plt.plot(test_y.cpu().numpy()[:200],label='real')\n",
    "plt.legend()"
   ]
  }
 ],
 "metadata": {
  "kernelspec": {
   "display_name": "Python [conda env:pytorch]",
   "language": "python",
   "name": "conda-env-pytorch-py"
  },
  "language_info": {
   "codemirror_mode": {
    "name": "ipython",
    "version": 3
   },
   "file_extension": ".py",
   "mimetype": "text/x-python",
   "name": "python",
   "nbconvert_exporter": "python",
   "pygments_lexer": "ipython3",
   "version": "3.7.9"
  }
 },
 "nbformat": 4,
 "nbformat_minor": 4
}
